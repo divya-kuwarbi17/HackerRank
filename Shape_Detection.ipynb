{
  "nbformat": 4,
  "nbformat_minor": 0,
  "metadata": {
    "colab": {
      "provenance": []
    },
    "kernelspec": {
      "name": "python3",
      "display_name": "Python 3"
    },
    "language_info": {
      "name": "python"
    }
  },
  "cells": [
    {
      "cell_type": "code",
      "source": [
        "import cv2\n",
        "import numpy as np\n",
        "from matplotlib import pyplot as plt"
      ],
      "metadata": {
        "id": "j20eFuHuF_72"
      },
      "execution_count": 25,
      "outputs": []
    },
    {
      "cell_type": "code",
      "source": [
        "def detect_circle_or_ellipse(image_path):\n",
        "    # Read the image\n",
        "    img = cv2.imread(image_path, 0)  # Read the image in grayscale\n",
        "\n",
        "    # Apply some image processing (blurring, thresholding, etc.) to enhance shape detection\n",
        "    blurred = cv2.GaussianBlur(img, (5, 5), 0)\n",
        "    thresh = cv2.Canny(blurred, 50, 150)\n",
        "\n",
        "    # Use Hough Circle Transform to detect circles\n",
        "    circles = cv2.HoughCircles(thresh, cv2.HOUGH_GRADIENT, dp=1, minDist=20, param1=50, param2=30, minRadius=0, maxRadius=0)\n",
        "\n",
        "    if circles is not None:\n",
        "        # If circles are found, print \"Circle\" and draw the detected circles\n",
        "        print(\"Circle\")\n",
        "    else:\n",
        "        print(\"ellipse\")"
      ],
      "metadata": {
        "id": "I5MXm-r4F92n"
      },
      "execution_count": 26,
      "outputs": []
    },
    {
      "cell_type": "code",
      "source": [
        "\n",
        "\n",
        "\n",
        "def shape_detect(img_path):\n",
        "# reading image\n",
        "  img = cv2.imread(img_path)\n",
        "\n",
        "  # converting image into grayscale image\n",
        "  gray = cv2.cvtColor(img, cv2.COLOR_BGR2GRAY)\n",
        "\n",
        "  # setting threshold of gray image\n",
        "  _, threshold = cv2.threshold(gray, 127, 255, cv2.THRESH_BINARY)\n",
        "\n",
        "  # using a findContours() function\n",
        "  contours, _ = cv2.findContours(\n",
        "    threshold, cv2.RETR_TREE, cv2.CHAIN_APPROX_SIMPLE)\n",
        "\n",
        "  i = 0\n",
        "\n",
        "  # list for storing names of shapes\n",
        "  for contour in contours:\n",
        "\n",
        "    # here we are ignoring first counter because\n",
        "    # findcontour function detects whole image as shape\n",
        "    if i == 0:\n",
        "      i = 1\n",
        "      continue\n",
        "\n",
        "    # cv2.approxPloyDP() function to approximate the shape\n",
        "    approx = cv2.approxPolyDP(\n",
        "      contour, 0.01 * cv2.arcLength(contour, True), True)\n",
        "\n",
        "    # using drawContours() function\n",
        "    # cv2.drawContours(img, [contour], 0, (0, 0, 255), 5)\n",
        "\n",
        "    # # finding center point of shape\n",
        "    # M = cv2.moments(contour)\n",
        "    # if M['m00'] != 0.0:\n",
        "    #   x = int(M['m10']/M['m00'])\n",
        "    #   y = int(M['m01']/M['m00'])\n",
        "\n",
        "    # putting shape name at center of each shape\n",
        "    if len(approx) == 3:\n",
        "      print(\"triangle\")\n",
        "\n",
        "    elif len(approx) == 4:\n",
        "      # print(\"square\")\n",
        "      x, y, w, h = cv2.boundingRect(contour)\n",
        "      ratio = float(w)/h\n",
        "      if ratio >= 0.9 and ratio <= 1.1:\n",
        "        print(\"Square\")\n",
        "      else:\n",
        "        print(\"Rectangle\")\n",
        "\n",
        "    else:\n",
        "      detect_circle_or_ellipse(img_path)\n",
        "\n",
        "  # # displaying the image after drawing contours\n",
        "  # cv2.imshow('shapes', img)\n",
        "\n",
        "  # cv2.waitKey(0)\n",
        "  # cv2.destroyAllWindows()\n"
      ],
      "metadata": {
        "id": "WV7FRU6IAC5W"
      },
      "execution_count": 27,
      "outputs": []
    },
    {
      "cell_type": "code",
      "source": [
        "shape_detect(\"/content/sample_data/images.png\")"
      ],
      "metadata": {
        "colab": {
          "base_uri": "https://localhost:8080/"
        },
        "id": "J8b1Czq6A62p",
        "outputId": "17e46063-e2d1-42cd-867e-92d82dfbe345"
      },
      "execution_count": 29,
      "outputs": [
        {
          "output_type": "stream",
          "name": "stdout",
          "text": [
            "ellipse\n"
          ]
        }
      ]
    },
    {
      "cell_type": "code",
      "source": [],
      "metadata": {
        "id": "hod8j3W5BCLS"
      },
      "execution_count": null,
      "outputs": []
    }
  ]
}