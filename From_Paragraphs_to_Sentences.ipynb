{
  "nbformat": 4,
  "nbformat_minor": 0,
  "metadata": {
    "colab": {
      "provenance": []
    },
    "kernelspec": {
      "name": "python3",
      "display_name": "Python 3"
    },
    "language_info": {
      "name": "python"
    }
  },
  "cells": [
    {
      "cell_type": "code",
      "execution_count": 1,
      "metadata": {
        "colab": {
          "base_uri": "https://localhost:8080/"
        },
        "id": "EgouRlPvhY9_",
        "outputId": "617024e0-8010-4f2e-a66f-a64ceb95765c"
      },
      "outputs": [
        {
          "output_type": "stream",
          "name": "stdout",
          "text": [
            "In the third category he included those Brothers (the majority) who saw nothing in Freemasonry but the external forms and ceremonies, and prized the strict performance of these forms without troubling about their purport or significance. Such were Willarski and even the Grand Master of the principal lodge. Finally, to the fourth category also a great many Brothers belonged, particularly those who had lately joined. These according to Pierre's observations were men who had no belief in anything, nor desire for anything, but joined the Freemasons merely to associate with the wealthy young Brothers who were influential through their connections or rank, and of whom there were very many in the lodge.Pierre began to feel dissatisfied with what he was doing. Freemasonry, at any rate as he saw it here, sometimes seemed to him based merely on externals. He did not think of doubting Freemasonry itself, but suspected that Russian Masonry had taken a wrong path and deviated from its original principles. And so toward the end of the year he went abroad to be initiated into the higher secrets of the order.What is to be done in these circumstances? To favor revolutions, overthrow everything, repel force by force?No! We are very far from that. Every violent reform deserves censure, for it quite fails to remedy evil while men remain what they are, and also because wisdom needs no violence. \"But what is there in running across it like that?\" said Ilagin's groom. \"Once she had missed it and turned it away, any mongrel could take it,\" Ilagin was saying at the same time, breathless from his gallop and his excitement. \n",
            "Sentence 1: In the third category he included those Brothers (the majority) who saw nothing in Freemasonry but the external forms and ceremonies, and prized the strict performance of these forms without troubling about their purport or significance.\n",
            "\n",
            "Sentence 2: Such were Willarski and even the Grand Master of the principal lodge.\n",
            "\n",
            "Sentence 3: Finally, to the fourth category also a great many Brothers belonged, particularly those who had lately joined.\n",
            "\n",
            "Sentence 4: These according to Pierre's observations were men who had no belief in anything, nor desire for anything, but joined the Freemasons merely to associate with the wealthy young Brothers who were influential through their connections or rank, and of whom there were very many in the lodge.\n",
            "\n",
            "Sentence 5: Pierre began to feel dissatisfied with what he was doing.\n",
            "\n",
            "Sentence 6: Freemasonry, at any rate as he saw it here, sometimes seemed to him based merely on externals.\n",
            "\n",
            "Sentence 7: He did not think of doubting Freemasonry itself, but suspected that Russian Masonry had taken a wrong path and deviated from its original principles.\n",
            "\n",
            "Sentence 8: And so toward the end of the year he went abroad to be initiated into the higher secrets of the order.\n",
            "\n",
            "Sentence 9: What is to be done in these circumstances?\n",
            "\n",
            "Sentence 10: To favor revolutions, overthrow everything, repel force by force?\n",
            "\n",
            "Sentence 11: No!\n",
            "\n",
            "Sentence 12: We are very far from that.\n",
            "\n",
            "Sentence 13: Every violent reform deserves censure, for it quite fails to remedy evil while men remain what they are, and also because wisdom needs no violence.\n",
            "\n",
            "Sentence 14: \"But what is there in running across it like that?\n",
            "\n",
            "Sentence 15: \" said Ilagin's groom.\n",
            "\n",
            "Sentence 16: \"Once she had missed it and turned it away, any mongrel could take it,\" Ilagin was saying at the same time, breathless from his gallop and his excitement.\n",
            "\n",
            "Sentence 17: \n",
            "\n"
          ]
        }
      ],
      "source": [
        "# Input text\n",
        "# input_text = '''In the third category he included those Brothers (the majority) who saw nothing in Freemasonry but the external forms and ceremonies, and prized the strict performance of these forms without troubling about their purport or significance. Such were Willarski and even the Grand Master of the principal lodge. Finally, to the fourth category also a great many Brothers belonged, particularly those who had lately joined. These according to Pierre's observations were men who had no belief in anything, nor desire for anything, but joined the Freemasons merely to associate with the wealthy young Brothers who were influential through their connections or rank, and of whom there were very many in the lodge.Pierre began to feel dissatisfied with what he was doing. Freemasonry, at any rate as he saw it here, sometimes seemed to him based merely on externals. He did not think of doubting Freemasonry itself, but suspected that Russian Masonry had taken a wrong path and deviated from its original principles. And so toward the end of the year he went abroad to be initiated into the higher secrets of the order.What is to be done in these circumstances? To favor revolutions, overthrow everything, repel force by force?No! We are very far from that. Every violent reform deserves censure, for it quite fails to remedy evil while men remain what they are, and also because wisdom needs no violence. \"But what is there in running across it like that?\" said Ilagin's groom. \"Once she had missed it and turned it away, any mongrel could take it,\" Ilagin was saying at the same time, breathless from his gallop and his excitement.'''\n",
        "input_text = input()\n",
        "# Split the input text into sentences based on common punctuation marks\n",
        "sentences = []\n",
        "current_sentence = \"\"\n",
        "sentence_endings = ['.', '!', '?']\n",
        "\n",
        "for char in input_text:\n",
        "    current_sentence += char\n",
        "    if char in sentence_endings:\n",
        "        sentences.append(current_sentence.strip())\n",
        "        current_sentence = \"\"\n",
        "\n",
        "# If there's remaining text after the last punctuation, add it as a sentence\n",
        "if current_sentence:\n",
        "    sentences.append(current_sentence.strip())\n",
        "\n",
        "# Print the sentences\n",
        "for idx, sentence in enumerate(sentences, start=1):\n",
        "    print(f\"Sentence {idx}: {sentence}\\n\")\n"
      ]
    },
    {
      "cell_type": "code",
      "source": [],
      "metadata": {
        "id": "E2BYbo6thax7"
      },
      "execution_count": null,
      "outputs": []
    }
  ]
}