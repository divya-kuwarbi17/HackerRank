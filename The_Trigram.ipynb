{
  "nbformat": 4,
  "nbformat_minor": 0,
  "metadata": {
    "colab": {
      "provenance": []
    },
    "kernelspec": {
      "name": "python3",
      "display_name": "Python 3"
    },
    "language_info": {
      "name": "python"
    }
  },
  "cells": [
    {
      "cell_type": "code",
      "execution_count": 1,
      "metadata": {
        "id": "1P5Ciii6oDGk",
        "outputId": "0de92089-63c5-42d6-8c4a-04e91c307cd0",
        "colab": {
          "base_uri": "https://localhost:8080/"
        }
      },
      "outputs": [
        {
          "output_type": "stream",
          "name": "stdout",
          "text": [
            "I love to dance. I like to dance I. like to play chess.\n",
            "i love to\n"
          ]
        }
      ],
      "source": [
        "#!/bin/python3\n",
        "\n",
        "\n",
        "import math\n",
        "import os\n",
        "import random\n",
        "import re\n",
        "import sys\n",
        "from collections import Counter\n",
        "\n",
        "def get_trig(s):\n",
        "  a = s.split(\" \")\n",
        "  lst = []\n",
        "#   print(len(a))\n",
        "  for i in range(len(a)):\n",
        "    if i<=(len(a)-3):\n",
        "    #   print(i)\n",
        "      lst.append(a[i]+ ' ' +a[i+1] +\" \"+a[i+2])\n",
        "\n",
        "\n",
        "# Sample list of elements\n",
        "  # elements = [1, 2, 3, 2, 2, 3, 4, 5, 2, 2, 4, 2, 2]\n",
        "\n",
        "# Using Counter to count occurrences of each element\n",
        "  element_counter = Counter(lst)\n",
        "\n",
        "# Find the element with the maximum count\n",
        "  max_element = max(element_counter, key=element_counter.get)\n",
        "  max_count = element_counter[max_element]\n",
        "  print(max_element.lower())\n",
        "  # print(a)\n",
        "\n",
        "\n",
        "if __name__ == '__main__':\n",
        "    s = input()\n",
        "    get_trig(s)\n"
      ]
    },
    {
      "cell_type": "code",
      "source": [],
      "metadata": {
        "id": "0rNwL2MOoEB_"
      },
      "execution_count": null,
      "outputs": []
    }
  ]
}